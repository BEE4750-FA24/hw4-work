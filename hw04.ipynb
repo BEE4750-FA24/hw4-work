{
  "cells": [
    {
      "cell_type": "markdown",
      "id": "b4a9b3a6-2cd0-41c9-b559-bd1b32cc80b1",
      "metadata": {},
      "source": [
        "# BEE 4750 Homework 4: Linear Programming and Capacity Expansion\n",
        "\n",
        "**Name**: Sarah Cooke, Fabien De Silva, Laura Akey\n",
        "\n",
        "**ID**: sec275, fmd48, lka27\n",
        "\n",
        "> **Due Date**\n",
        ">\n",
        "> Thursday, 11/07/23, 9:00pm\n",
        "\n",
        "## Overview\n",
        "\n",
        "### Instructions\n",
        "\n",
        "-   Problem 1 asks you to formulate and solve a resource allocation\n",
        "    problem using linear programming.\n",
        "-   Problem 2 asks you to formulate, solve, and analyze a standard\n",
        "    generating capacity expansion problem.\n",
        "-   Problem 3 (5750 only) asks you to add a CO<sub>2</sub> constraint to\n",
        "    the capacity expansion problem and identify changes in the resulting\n",
        "    solution.\n",
        "\n",
        "### Load Environment\n",
        "\n",
        "The following code loads the environment and makes sure all needed\n",
        "packages are installed. This should be at the start of most Julia\n",
        "scripts."
      ]
    },
    {
      "cell_type": "code",
      "execution_count": 5,
      "id": "2",
      "metadata": {},
      "outputs": [
        {
          "name": "stderr",
          "output_type": "stream",
          "text": [
            "\u001b[32m\u001b[1m  Activating\u001b[22m\u001b[39m project at `~/hw04`\n"
          ]
        }
      ],
      "source": [
        "import Pkg\n",
        "Pkg.activate(@__DIR__)\n",
        "Pkg.instantiate()"
      ]
    },
    {
      "cell_type": "markdown",
      "id": "83a90f0b-b671-47e0-8c9a-1a0e2c83cc82",
      "metadata": {},
      "source": [
        "## Problems (Total: 50/60 Points)\n",
        "\n",
        "### Problem 1 (20 points)\n",
        "\n",
        "A farmer has access to a pesticide which can be used on corn, soybeans,\n",
        "and wheat fields, and costs \\$70/kg-yr to apply. The crop yields the\n",
        "farmer can obtain following crop yields by applying varying rates of\n",
        "pesticides to the field are shown in\n",
        "<a href=\"#tbl-yields\" class=\"quarto-xref\">Table 1</a>.\n",
        "\n",
        "| Application Rate (kg/ha) | Soybean (kg/ha) | Wheat (kg/ha) | Corn (kg/ha) |\n",
        "|:------------------------:|:---------------:|:-------------:|:------------:|\n",
        "|            0             |      2900       |     3500      |     5900     |\n",
        "|            1             |      3800       |     4100      |     6700     |\n",
        "|            2             |      4400       |     4200      |     7900     |\n",
        "\n",
        "Table 1: Crop yields from applying varying pesticide rates for Problem\n",
        "1.\n",
        "\n",
        "The costs of production, *excluding pesticides*, for each crop, and\n",
        "selling prices, are shown in\n",
        "<a href=\"#tbl-costs\" class=\"quarto-xref\">Table 2</a>.\n",
        "\n",
        "|   Crop   | Production Cost (\\$/ha-yr) | Selling Price (\\$/kg) |\n",
        "|:--------:|:--------------------------:|:---------------------:|\n",
        "| Soybeans |            350             |         0.36          |\n",
        "|  Wheat   |            280             |         0.27          |\n",
        "|   Corn   |            390             |         0.22          |\n",
        "\n",
        "Table 2: Costs of crop production, excluding pesticides, and selling\n",
        "prices for each crop.\n",
        "\n",
        "Recently, environmental authorities have declared that farms cannot have\n",
        "an *average* application rate on soybeans, wheat, and corn which exceeds\n",
        "0.8, 0.7, and 0.6 kg/ha, respectively. The farmer has asked you for\n",
        "advice on how they should plant crops and apply pesticides to maximize\n",
        "profits over 130 total ha while remaining in regulatory compliance if\n",
        "demand for each crop (which is the maximum the market would buy) this\n",
        "year is 250,000 kg?\n",
        "\n",
        "**In this problem**:\n",
        "\n",
        "-   Formulate a linear program for this resource allocation problem,\n",
        "    including clear definitions of decision variable(s) (including\n",
        "    units), objective function(s), and constraint(s) (make sure to\n",
        "    explain functions and constraints with any needed derivations and\n",
        "    explanations). **Tip: Make sure that all of your constraints are\n",
        "    linear**.\n",
        "-   Implement the program in `JuMP.jl` and find the solution. How many\n",
        "    ha should the farmer dedicate to each crop and with what pesticide\n",
        "    application rate(s)? How much profit will the farmer expect to make?\n",
        "-   The farmer has an opportunity to buy an extra 10 ha of land. How\n",
        "    much extra profit would this land be worth to the farmer? Discuss\n",
        "    why this value makes sense and whether you would recommend the\n",
        "    farmer should make the purchase."
      ]
    },
    {
      "cell_type": "code",
      "execution_count": 6,
      "id": "4",
      "metadata": {},
      "outputs": [],
      "source": [
        "using JuMP\n",
        "using HiGHS\n",
        "using DataFrames\n",
        "using Plots\n",
        "using Measures\n",
        "using CSV\n",
        "using MarkdownTables"
      ]
    },
    {
      "cell_type": "markdown",
      "id": "00c9ed93",
      "metadata": {},
      "source": [
        "$Problem$ $1$ $Solution$\n",
        "\n",
        "\n",
        "note: S[0:2], W[0:2], and C[0:2] are in units ha\n",
        "\n",
        "**Soybeans:**\n",
        "\n",
        "soybean (kg) = 2900 (kg/ha) *S[0] (ha) + 3800 (kg/ha) *S[1] (ha) + 4400 (kg/ha) *S[2] (ha)\n",
        "\n",
        "sales_soybeans (dollar) = 0.36 ($/kg) * soybean(kg)\n",
        "\n",
        "cost_pesticides_soybean (dollar) = 70 ($/kg-yr) * (0*S[0] + 1*S[1] + 2*S[2]) (kg)\n",
        "\n",
        "cost_production_soybean = 350 * (S[0] + S[1] + S[2]) (kg)\n",
        "\n",
        "\n",
        "profit_soybean = sales_soybean - cost_pesticides_soybean - cost production soybean\n",
        "\n",
        "profit_soybean = 0.36(2900*S[0] + 3800*S[1] + 4400*S[2]) - 70(0*S[0] + 1*S[1] + 2*S[2]) - 350(S[0] + S[1] + S[2])\n",
        "\n",
        "profit_soybean = 1040*S[0] + 1368*S[1] + 1584*S[2] - 70*S[1] - 140*S[2] - 350*S[0] - 350*S[1] - 350*S[2]\n",
        "\n",
        "\n",
        "**profit_soybean = 690*S[0] + 948*S[1] + 1094*S[2]**\n",
        "\n",
        "**0.8 * (S[0] + S[1] + S[2]) ≥ (0*S[0] + 1*S[1] + 2*S[2])**\n",
        "\n",
        "\n",
        "**Wheat:**\n",
        "\n",
        "wheat (kg) = 3500 (kg/ha) *W[0] (ha) + 4100 (kg/ha) *W[1] (ha) + 4200 (kg/ha) *W[2] (ha)\n",
        "\n",
        "sales_wheat = 0.27 ($/kg) * wheat(kg)\n",
        "\n",
        "cost_pesticides_wheat = 70 * (0*W[0] + 1*W[1] + 2*W[2])\n",
        "\n",
        "cost_production_wheat = 280 * (W[0] + W[1] + W[2])\n",
        "\n",
        "\n",
        "\n",
        "profit_wheat = sales_wheat - cost_pesticides_wheat - cost production wheat\n",
        "\n",
        "profit_wheat = 0.27(3500*W[0] + 4100*W[1] + 4200*W[2]) - 70 * (0*W[0] + 1*W[1] + 2*W[2]) -  280 * (W[0] + W[1] + W[2])\n",
        "\n",
        "profit_wheat = 945*W[0] + 1107*W[1] + 1134*W[2] - 70*W[1] - 140*W[2] - 280*W[0] - 280*W[1] - 280*W[2]\n",
        "\n",
        "\n",
        "**profit_wheat = 665*W[0] + 757*W[1] + 714* W[2]**\n",
        "\n",
        "**0.7 * (W[0] + W[1] + W[2]) ≥ (0*W[0] + 1*W[1] + 2*W[2])**\n",
        "\n",
        "\n",
        "**Corn:**\n",
        "\n",
        "corn (kg) = 5900 (kg/ha) *C[0] (ha) + 6700 (kg/ha) *C[1] (ha) + 7900 (kg/ha) *C[2] (ha)\n",
        "\n",
        "profit_corn (dollar) = 0.22($/kg) * corn(kg)\n",
        "\n",
        "cost_pesticides_corn = 70 * (0*C[0] + 1*C[1] + 2*C[2])\n",
        "\n",
        "cost_production_corn = 390 * (C[0] + C[1] + C[2])\n",
        "\n",
        "\n",
        "profit_corn = sales_corn - cost_pesticides_corn - cost_production_corn\n",
        "\n",
        "profit_corn = 0.22(5900*C[0] + 6700*C[1] + 7900*C[2]) - 70 * (0*C[0] + 1*C[1] + 2*C[2]) - 390 * (C[0] + C[1] + C[2])\n",
        "\n",
        "profit_corn = 1298*C[0] + 1474*C[1] + 1738*C[2] - 70*C[1] - 140*C[2] - 390*C[0] - 390*C[1] - 390*C[2]\n",
        "\n",
        "\n",
        "**profit_corn = 908*C[0] + 1014*C[1] + 1208*C[2]**\n",
        "\n",
        "**0.6 ≥ (0*C[0] + 1*C[1] + 2*C[2]) / (C[0] + C[1] + C[2])**\n",
        "\n",
        "\n",
        "**Overall:**\n",
        "\n",
        "130 ≥ S[0] + S[1] + S[2] + W[0] + W[1] + W[2] + C[0] + C[1] + C[2]\n",
        "\n",
        "250,000 ≥ 2900*S[0] + 3800*S[1] + 4400*S[2] + 3500*W[0] + 4100*W[1] + 4200*W[2] + 5900*C[0] + 6700*C[1] + 7900*C[2]\n",
        "\n",
        "\n",
        "**Constraints:**\n",
        "\n",
        "pesticides cost 70 $/kg-yr\n",
        "\n",
        "average application rate of soybean, wheat, and corn must be below 0.8, 0.7, and 0.6 kg/ha respectively.\n",
        "\n",
        "soybean ha + wheat ha + corn ha ≤ 130 ha\n",
        "\n",
        "deamnd for each crop ≤ 250,000 kg/crop"
      ]
    },
    {
      "cell_type": "code",
      "execution_count": 27,
      "id": "1c897b49",
      "metadata": {},
      "outputs": [
        {
          "name": "stdout",
          "output_type": "stream",
          "text": [
            "Max 690 S[0] + 948 S[1] + 1094 S[2] + 665 W[0] + 757 W[1] + 714 W[2] + 908 C[0] + 1014 C[1] + 1208 C[2]\n",
            "Subject to\n",
            " demand_soy : 2900 S[0] + 3800 S[1] + 4400 S[2] ≤ 250000\n",
            " demand_wheat : 3500 W[0] + 4100 W[1] + 4200 W[2] ≤ 250000\n",
            " demand_corn : 5900 C[0] + 6700 C[1] + 7900 C[2] ≤ 250000\n",
            " soybean : -0.8 S[0] + 0.19999999999999996 S[1] + 1.2 S[2] ≤ 0\n",
            " wheat : -0.7 W[0] + 0.30000000000000004 W[1] + 1.3 W[2] ≤ 0\n",
            " corn : -0.6 C[0] + 0.4 C[1] + 1.4 C[2] ≤ 0\n",
            " S[0] ≥ 0\n",
            " S[1] ≥ 0\n",
            " S[2] ≥ 0\n",
            " W[0] ≥ 0\n",
            " W[1] ≥ 0\n",
            " W[2] ≥ 0\n",
            " C[0] ≥ 0\n",
            " C[1] ≥ 0\n",
            " C[2] ≥ 0\n"
          ]
        }
      ],
      "source": [
        "crops_model = Model(HiGHS.Optimizer) # initialize model object\n",
        "@variable(crops_model, S[0:2] >= 0) # non-negativity constraints\n",
        "@variable(crops_model, W[0:2] >= 0) # non-negativity constraints\n",
        "@variable(crops_model, C[0:2] >= 0) # non-negativity constraints\n",
        "@objective(crops_model, Max, 690*S[0] + 948*S[1] + 1094*S[2] + 665*W[0] + 757*W[1] + 714* W[2] + 908*C[0] + 1014*C[1] + 1208*C[2])\n",
        "@constraint(crops_model, demand_soy, 2900*S[0]+3800*S[1]+4400*S[2]<=250000)\n",
        "@constraint(crops_model, demand_wheat, 3500*W[0]+4100*W[1]+4200*W[2]<=250000)\n",
        "@constraint(crops_model, demand_corn, 5900*C[0]+6700*C[1]+7900*C[2]<=250000)\n",
        "@constraint(crops_model, soybean, (S[1]+2*S[2]) <= 0.8 * (S[0]+S[1]+S[2]))\n",
        "@constraint(crops_model, wheat, (W[1]+2*W[2]) <= 0.7 * (W[0]+W[1]+W[2]))\n",
        "@constraint(crops_model, corn, (C[1]+2*C[2]) <= 0.6 * (C[0]+C[1]+C[2]))\n",
        "print(crops_model) # this outputs a nicely formatted summary of the model so you can check your specification"
      ]
    },
    {
      "cell_type": "code",
      "execution_count": 28,
      "id": "a40141ef",
      "metadata": {},
      "outputs": [
        {
          "name": "stdout",
          "output_type": "stream",
          "text": [
            "Running HiGHS 1.7.2 (git hash: 5ce7a2753): Copyright (c) 2024 HiGHS under MIT licence terms\n",
            "Coefficient ranges:\n",
            "  Matrix [2e-01, 8e+03]\n",
            "  Cost   [7e+02, 1e+03]\n",
            "  Bound  [0e+00, 0e+00]\n",
            "  RHS    [2e+05, 2e+05]\n",
            "Presolving model\n",
            "2 rows, 3 cols, 6 nonzeros  0s\n",
            "1 rows, 2 cols, 2 nonzeros  0s\n",
            "0 rows, 0 cols, 0 nonzeros  0s\n",
            "Presolve : Reductions: rows 0(-6); columns 0(-9); elements 0(-18) - Reduced to empty\n",
            "Solving the original LP from the solution after postsolve\n",
            "Model   status      : Optimal\n",
            "Objective value     :  1.4788065362e+05\n",
            "HiGHS run time      :          0.00\n"
          ]
        }
      ],
      "source": [
        "optimize!(crops_model)"
      ]
    },
    {
      "cell_type": "code",
      "execution_count": 29,
      "id": "fa4d936a",
      "metadata": {},
      "outputs": [
        {
          "name": "stdout",
          "output_type": "stream",
          "text": [
            "value.(S) = 1-dimensional DenseAxisArray{Float64,1,...} with index sets:\n",
            "    Dimension 1, 0:2\n",
            "And data, a 3-element Vector{Float64}:\n",
            " 13.812154696132595\n",
            " 55.248618784530386\n",
            "  0.0\n"
          ]
        }
      ],
      "source": [
        "@show value.(S);"
      ]
    },
    {
      "cell_type": "code",
      "execution_count": 30,
      "id": "20e47449",
      "metadata": {},
      "outputs": [
        {
          "name": "stdout",
          "output_type": "stream",
          "text": [
            "value.(W) = 1-dimensional DenseAxisArray{Float64,1,...} with index sets:\n",
            "    Dimension 1, 0:2\n",
            "And data, a 3-element Vector{Float64}:\n",
            " 71.42857142857143\n",
            "  0.0\n",
            "  0.0\n"
          ]
        },
        {
          "data": {
            "text/plain": [
              "1-dimensional DenseAxisArray{Float64,1,...} with index sets:\n",
              "    Dimension 1, 0:2\n",
              "And data, a 3-element Vector{Float64}:\n",
              " 71.42857142857143\n",
              "  0.0\n",
              "  0.0"
            ]
          },
          "metadata": {},
          "output_type": "display_data"
        }
      ],
      "source": [
        "@show value.(W)"
      ]
    },
    {
      "cell_type": "code",
      "execution_count": 31,
      "id": "b7c5bbf4",
      "metadata": {},
      "outputs": [
        {
          "name": "stdout",
          "output_type": "stream",
          "text": [
            "value.(C) = 1-dimensional DenseAxisArray{Float64,1,...} with index sets:\n",
            "    Dimension 1, 0:2\n",
            "And data, a 3-element Vector{Float64}:\n",
            " 42.3728813559322\n",
            "  0.0\n",
            "  0.0\n"
          ]
        },
        {
          "data": {
            "text/plain": [
              "1-dimensional DenseAxisArray{Float64,1,...} with index sets:\n",
              "    Dimension 1, 0:2\n",
              "And data, a 3-element Vector{Float64}:\n",
              " 42.3728813559322\n",
              "  0.0\n",
              "  0.0"
            ]
          },
          "metadata": {},
          "output_type": "display_data"
        }
      ],
      "source": [
        "@show value.(C)"
      ]
    },
    {
      "cell_type": "markdown",
      "id": "3f47eb29",
      "metadata": {},
      "source": [
        "### Problem 2 (30 points)\n",
        "\n",
        "For this problem, we will use hourly load (demand) data from 2013 in New\n",
        "York’s Zone C (which includes Ithaca). The load data is loaded and\n",
        "plotted below in <a href=\"#fig-demand\" class=\"quarto-xref\">Figure 1</a>."
      ]
    },
    {
      "cell_type": "code",
      "execution_count": 1,
      "id": "cell-fig-demand",
      "metadata": {},
      "outputs": [],
      "source": [
        "# load the data, pull Zone C, and reformat the DataFrame\n",
        "NY_demand = DataFrame(CSV.File(\"data/2013_hourly_load_NY.csv\"))\n",
        "rename!(NY_demand, :\"Time Stamp\" => :Date)\n",
        "demand = NY_demand[:, [:Date, :C]]\n",
        "rename!(demand, :C => :Demand)\n",
        "demand[:, :Hour] = 1:nrow(demand)\n",
        "\n",
        "# plot demand\n",
        "plot(demand.Hour, demand.Demand, xlabel=\"Hour of Year\", ylabel=\"Demand (MWh)\", label=:false)"
      ]
    },
    {
      "cell_type": "markdown",
      "id": "bc85721e-03d2-4015-a296-3d7099bd0502",
      "metadata": {},
      "source": [
        "Next, we load the generator data, shown in\n",
        "<a href=\"#tbl-generators\" class=\"quarto-xref\">Table 3</a>. This data\n",
        "includes fixed costs (\\$/MW installed), variable costs (\\$/MWh\n",
        "generated), and CO<sub>2</sub> emissions intensity (tCO<sub>2</sub>/MWh\n",
        "generated)."
      ]
    },
    {
      "cell_type": "code",
      "execution_count": 1,
      "id": "3714ce02-fa13-4d69-9c03-d0500f5c6e46",
      "metadata": {},
      "outputs": [],
      "source": [
        "gens = DataFrame(CSV.File(\"data/generators.csv\"))"
      ]
    },
    {
      "cell_type": "markdown",
      "id": "27adec49-8dc3-4aaa-8659-7b4cd69f2f74",
      "metadata": {},
      "source": [
        "Finally, we load the hourly solar and wind capacity factors, which are\n",
        "plotted in <a href=\"#fig-cf\" class=\"quarto-xref\">Figure 2</a>. These\n",
        "tell us the fraction of installed capacity which is expected to be\n",
        "available in a given hour for generation (typically based on the average\n",
        "meteorology)."
      ]
    },
    {
      "cell_type": "code",
      "execution_count": 1,
      "id": "e9222ff7-4557-4824-8e9b-02af327394e0",
      "metadata": {
        "layout-nrow": 2
      },
      "outputs": [],
      "source": [
        "# load capacify factors into a DataFrame\n",
        "cap_factor = DataFrame(CSV.File(\"data/wind_solar_capacity_factors.csv\"))\n",
        "\n",
        "# plot January capacity factors\n",
        "p1 = plot(cap_factor.Wind[1:(24*31)], label=\"Wind\")\n",
        "plot!(cap_factor.Solar[1:(24*31)], label=\"Solar\")\n",
        "xaxis!(\"Hour of the Month\")\n",
        "yaxis!(\"Capacity Factor\")\n",
        "\n",
        "p2 = plot(cap_factor.Wind[4344:4344+(24*31)], label=\"Wind\")\n",
        "plot!(cap_factor.Solar[4344:4344+(24*31)], label=\"Solar\")\n",
        "xaxis!(\"Hour of the Month\")\n",
        "yaxis!(\"Capacity Factor\")\n",
        "\n",
        "display(p1)\n",
        "display(p2)"
      ]
    },
    {
      "cell_type": "markdown",
      "id": "282b2c58-e228-4ef7-a987-45633373c11a",
      "metadata": {},
      "source": [
        "You have been asked to develop a generating capacity expansion plan for\n",
        "the utility in Riley County, NY, which currently has no existing\n",
        "electrical generation infrastructure. The utility can build any of the\n",
        "following plant types: geothermal, coal, natural gas combined cycle gas\n",
        "turbine (CCGT), natural gas combustion turbine (CT), solar, and wind.\n",
        "\n",
        "While coal, CCGT, and CT plants can generate at their full installed\n",
        "capacity, geothermal plants operate at maximum 85% capacity, and solar\n",
        "and wind available capacities vary by the hour depend on the expected\n",
        "meteorology. The utility will also penalize any non-served demand at a\n",
        "rate of \\$10,000/MWh.\n",
        "\n",
        "**In this problem**:\n",
        "\n",
        "-   Formulate a linear program for this capacity expansion problem,\n",
        "    including clear definitions of decision variable(s) (including\n",
        "    units), objective function(s), and constraint(s) (make sure to\n",
        "    explain functions and constraints with any needed derivations and\n",
        "    explanations).\n",
        "-   Implement your linear program in `JuMP.jl`. Find the optimal\n",
        "    solution. How much should the utility build of each type of\n",
        "    generating plant? What will the total cost be? How much energy will\n",
        "    be non-served?\n",
        "-   What fraction of annual generation does each plant type produce? How\n",
        "    does this compare to the breakdown of built capacity that you found\n",
        "    in Problem 1.5? Do these results make sense given the generator\n",
        "    data?\n",
        "-   Make a plot of the electricity price in each hour. Discuss any\n",
        "    trends that you see.\n",
        "\n",
        "> **Significant Digits**\n",
        ">\n",
        "> Use `round(x; digits=n)` to report values to the appropriate\n",
        "> precision! If your number is on a different order of magnitude and you\n",
        "> want to round to a certain number of significant digits, you can use\n",
        "> `round(x; sigdigits=n)`.\n",
        "\n",
        "> **Getting Variable Output Values**\n",
        ">\n",
        "> `value.(x)` will report the values of a `JuMP` variable `x`, but it\n",
        "> will return a special container which holds other information about\n",
        "> `x` that is useful for `JuMP`. This means that you can’t use this\n",
        "> output directly for further calculations. To just extract the values,\n",
        "> use `value.(x).data`.\n",
        "\n",
        "> **Suppressing Model Command Output**\n",
        ">\n",
        "> The output of specifying model components (variable or constraints)\n",
        "> can be quite large for this problem because of the number of time\n",
        "> periods. If you end a cell with an `@variable` or `@constraint`\n",
        "> command, I *highly* recommend suppressing output by adding a\n",
        "> semi-colon after the last command, or you might find that your\n",
        "> notebook crashes.\n",
        "\n",
        "### Problem 3 (10 points)\n",
        "\n",
        "**This problem is only required for students in BEE 5750**.\n",
        "\n",
        "The NY state legislature is considering enacting an annual\n",
        "CO<sub>2</sub> limit, which for the utility would limit the emissions in\n",
        "its footprint to 1.5 MtCO<sub>2</sub>/yr.\n",
        "\n",
        "**In this problem**:\n",
        "\n",
        "-   Reformulate your linear program from Problem 2 with any necessary\n",
        "    changes to capture the CO<sub>2</sub> limit.\n",
        "-   Implement the new optimization problem and find the optimal\n",
        "    solution. How much should the utility build of each type of\n",
        "    generating plant? What is different from your plan from Problem 1?\n",
        "    Do these changes make sense?\n",
        "-   What would the value to the utility be of allowing it to emit an\n",
        "    additional 1000 tCO<sub>2</sub>/yr? An additional 5000?"
      ]
    },
    {
      "cell_type": "markdown",
      "id": "5535a29a-6f63-4e2f-9a20-9801f0ecf097",
      "metadata": {},
      "source": [
        "## References\n",
        "\n",
        "List any external references consulted, including classmates."
      ]
    }
  ],
  "metadata": {
    "kernel_info": {
      "name": "julia"
    },
    "kernelspec": {
      "display_name": "Julia 1.10.5",
      "language": "julia",
      "name": "julia-1.10"
    },
    "language_info": {
      "file_extension": ".jl",
      "mimetype": "application/julia",
      "name": "julia",
      "version": "1.10.5"
    }
  },
  "nbformat": 4,
  "nbformat_minor": 5
}
